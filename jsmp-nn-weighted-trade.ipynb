{
 "cells": [
  {
   "cell_type": "code",
   "execution_count": 1,
   "metadata": {
    "_cell_guid": "b1076dfc-b9ad-4769-8c92-a6c4dae69d19",
    "_kg_hide-input": true,
    "_kg_hide-output": true,
    "_uuid": "8f2839f25d086af736a60e9eeb907d3b93b6e0e5",
    "execution": {
     "iopub.execute_input": "2021-01-28T04:46:26.241474Z",
     "iopub.status.busy": "2021-01-28T04:46:26.240676Z",
     "iopub.status.idle": "2021-01-28T04:46:55.641189Z",
     "shell.execute_reply": "2021-01-28T04:46:55.641972Z"
    },
    "papermill": {
     "duration": 29.442575,
     "end_time": "2021-01-28T04:46:55.642166",
     "exception": false,
     "start_time": "2021-01-28T04:46:26.199591",
     "status": "completed"
    },
    "tags": []
   },
   "outputs": [
    {
     "data": {
      "text/html": [
       "<style type='text/css'>\n",
       ".datatable table.frame { margin-bottom: 0; }\n",
       ".datatable table.frame thead { border-bottom: none; }\n",
       ".datatable table.frame tr.coltypes td {  color: #FFFFFF;  line-height: 6px;  padding: 0 0.5em;}\n",
       ".datatable .bool    { background: #DDDD99; }\n",
       ".datatable .object  { background: #565656; }\n",
       ".datatable .int     { background: #5D9E5D; }\n",
       ".datatable .float   { background: #4040CC; }\n",
       ".datatable .str     { background: #CC4040; }\n",
       ".datatable .row_index {  background: var(--jp-border-color3);  border-right: 1px solid var(--jp-border-color0);  color: var(--jp-ui-font-color3);  font-size: 9px;}\n",
       ".datatable .frame tr.coltypes .row_index {  background: var(--jp-border-color0);}\n",
       ".datatable th:nth-child(2) { padding-left: 12px; }\n",
       ".datatable .hellipsis {  color: var(--jp-cell-editor-border-color);}\n",
       ".datatable .vellipsis {  background: var(--jp-layout-color0);  color: var(--jp-cell-editor-border-color);}\n",
       ".datatable .na {  color: var(--jp-cell-editor-border-color);  font-size: 80%;}\n",
       ".datatable .footer { font-size: 9px; }\n",
       ".datatable .frame_dimensions {  background: var(--jp-border-color3);  border-top: 1px solid var(--jp-border-color0);  color: var(--jp-ui-font-color3);  display: inline-block;  opacity: 0.6;  padding: 1px 10px 1px 5px;}\n",
       "</style>\n"
      ],
      "text/plain": [
       "<IPython.core.display.HTML object>"
      ]
     },
     "metadata": {},
     "output_type": "display_data"
    }
   ],
   "source": [
    "!pip install ../input/python-datatable/datatable-0.11.0-cp37-cp37m-manylinux2010_x86_64.whl > /dev/null 2>&1\n",
    "import datatable as dt\n",
    "\n",
    "# system\n",
    "import warnings\n",
    "warnings.filterwarnings('ignore')\n",
    "\n",
    "from tensorflow.keras.layers import Input, Dense, BatchNormalization, Dropout, Concatenate, Lambda, GaussianNoise, Activation, Multiply\n",
    "from tensorflow.keras.models import Model, Sequential\n",
    "from tensorflow.keras.losses import BinaryCrossentropy\n",
    "from tensorflow.keras.optimizers import Adam\n",
    "from tensorflow.keras.callbacks import Callback, ReduceLROnPlateau, ModelCheckpoint, EarlyStopping\n",
    "from tensorflow.keras.layers.experimental.preprocessing import Normalization\n",
    "import keras.backend as K\n",
    "import tensorflow as tf\n",
    "from tensorflow import keras\n",
    "\n",
    "import lightgbm as lgb\n",
    "\n",
    "import numpy as np\n",
    "from scipy.stats import norm\n",
    "import pandas as pd\n",
    "pd.set_option('display.max_columns', 500)\n",
    "\n",
    "import seaborn as sns\n",
    "import matplotlib.pyplot as plt\n",
    "plt.style.use('fivethirtyeight')\n",
    "\n",
    "from sklearn.model_selection import KFold\n",
    "from sklearn.preprocessing import StandardScaler,MinMaxScaler,PowerTransformer,QuantileTransformer,normalize,MaxAbsScaler\n",
    "from sklearn.metrics import confusion_matrix,accuracy_score,precision_score,recall_score,roc_auc_score\n",
    "from sklearn.utils import class_weight\n",
    "\n",
    "from time import time\n",
    "from tqdm import tqdm\n",
    "import gc,datetime\n",
    "\n",
    "import janestreet"
   ]
  },
  {
   "cell_type": "code",
   "execution_count": 2,
   "metadata": {
    "_kg_hide-input": true,
    "_kg_hide-output": true,
    "execution": {
     "iopub.execute_input": "2021-01-28T04:46:55.693616Z",
     "iopub.status.busy": "2021-01-28T04:46:55.692862Z",
     "iopub.status.idle": "2021-01-28T04:46:55.697422Z",
     "shell.execute_reply": "2021-01-28T04:46:55.696844Z"
    },
    "papermill": {
     "duration": 0.03209,
     "end_time": "2021-01-28T04:46:55.697574",
     "exception": false,
     "start_time": "2021-01-28T04:46:55.665484",
     "status": "completed"
    },
    "tags": []
   },
   "outputs": [],
   "source": [
    "# Options\n",
    "\n",
    "TRAINING = True\n",
    "\n",
    "# seed set\n",
    "SEED = 2021\n",
    "tf.random.set_seed(SEED)\n",
    "np.random.seed(SEED)"
   ]
  },
  {
   "cell_type": "markdown",
   "metadata": {
    "papermill": {
     "duration": 0.02035,
     "end_time": "2021-01-28T04:46:55.740325",
     "exception": false,
     "start_time": "2021-01-28T04:46:55.719975",
     "status": "completed"
    },
    "tags": []
   },
   "source": [
    "## Reading"
   ]
  },
  {
   "cell_type": "code",
   "execution_count": 3,
   "metadata": {
    "execution": {
     "iopub.execute_input": "2021-01-28T04:46:55.788575Z",
     "iopub.status.busy": "2021-01-28T04:46:55.786733Z",
     "iopub.status.idle": "2021-01-28T04:46:55.789302Z",
     "shell.execute_reply": "2021-01-28T04:46:55.789817Z"
    },
    "papermill": {
     "duration": 0.028412,
     "end_time": "2021-01-28T04:46:55.789937",
     "exception": false,
     "start_time": "2021-01-28T04:46:55.761525",
     "status": "completed"
    },
    "tags": []
   },
   "outputs": [],
   "source": [
    "folder_path = '../input/jane-street-market-prediction/'\n",
    "#save_path = '../input/jane-autoencorder/'"
   ]
  },
  {
   "cell_type": "code",
   "execution_count": 4,
   "metadata": {
    "execution": {
     "iopub.execute_input": "2021-01-28T04:46:55.839078Z",
     "iopub.status.busy": "2021-01-28T04:46:55.838308Z",
     "iopub.status.idle": "2021-01-28T04:47:57.471339Z",
     "shell.execute_reply": "2021-01-28T04:47:57.472110Z"
    },
    "papermill": {
     "duration": 61.661243,
     "end_time": "2021-01-28T04:47:57.472287",
     "exception": false,
     "start_time": "2021-01-28T04:46:55.811044",
     "status": "completed"
    },
    "tags": []
   },
   "outputs": [
    {
     "name": "stdout",
     "output_type": "stream",
     "text": [
      "Reading train.csv\n",
      "Finish Reading\n"
     ]
    }
   ],
   "source": [
    "# Reading csv\n",
    "print('Reading train.csv')\n",
    "train = dt.fread(folder_path + 'train.csv').to_pandas()\n",
    "\n",
    "print('Finish Reading')"
   ]
  },
  {
   "cell_type": "code",
   "execution_count": 5,
   "metadata": {
    "execution": {
     "iopub.execute_input": "2021-01-28T04:47:57.518752Z",
     "iopub.status.busy": "2021-01-28T04:47:57.518030Z",
     "iopub.status.idle": "2021-01-28T04:47:57.544265Z",
     "shell.execute_reply": "2021-01-28T04:47:57.544976Z"
    },
    "papermill": {
     "duration": 0.052989,
     "end_time": "2021-01-28T04:47:57.545141",
     "exception": false,
     "start_time": "2021-01-28T04:47:57.492152",
     "status": "completed"
    },
    "tags": []
   },
   "outputs": [
    {
     "name": "stdout",
     "output_type": "stream",
     "text": [
      "Reading train.csv\n",
      "Finish Reading\n"
     ]
    }
   ],
   "source": [
    "# Reading csv\n",
    "print('Reading train.csv')\n",
    "tag_feature = dt.fread(folder_path + 'features.csv').to_pandas()\n",
    "tag_feature = tag_feature.set_index('feature')\n",
    "tag_feature = tag_feature.astype('int8')\n",
    "print('Finish Reading')"
   ]
  },
  {
   "cell_type": "markdown",
   "metadata": {
    "papermill": {
     "duration": 0.023971,
     "end_time": "2021-01-28T04:47:57.589797",
     "exception": false,
     "start_time": "2021-01-28T04:47:57.565826",
     "status": "completed"
    },
    "tags": []
   },
   "source": [
    "## Pre-processing"
   ]
  },
  {
   "cell_type": "code",
   "execution_count": 6,
   "metadata": {
    "execution": {
     "iopub.execute_input": "2021-01-28T04:47:57.653939Z",
     "iopub.status.busy": "2021-01-28T04:47:57.652910Z",
     "iopub.status.idle": "2021-01-28T04:48:00.872508Z",
     "shell.execute_reply": "2021-01-28T04:48:00.873603Z"
    },
    "papermill": {
     "duration": 3.258966,
     "end_time": "2021-01-28T04:48:00.873785",
     "exception": false,
     "start_time": "2021-01-28T04:47:57.614819",
     "status": "completed"
    },
    "tags": []
   },
   "outputs": [
    {
     "name": "stdout",
     "output_type": "stream",
     "text": [
      "Pre-process start\n"
     ]
    }
   ],
   "source": [
    "# Pre-process\n",
    "print('Pre-process start')\n",
    "train['feature_0'] = train['feature_0'].astype(np.int8)\n",
    "train['date'] = train['date'].astype(np.int16)\n",
    "train['ts_id'] = train['ts_id'].astype(np.int32)\n",
    "\n",
    "train = train[train['weight'] > 0.0].reset_index(drop=True)\n",
    "#train = train[train['date'] > 199].reset_index(drop=True)"
   ]
  },
  {
   "cell_type": "code",
   "execution_count": 7,
   "metadata": {
    "execution": {
     "iopub.execute_input": "2021-01-28T04:48:00.940505Z",
     "iopub.status.busy": "2021-01-28T04:48:00.939539Z",
     "iopub.status.idle": "2021-01-28T04:48:02.487585Z",
     "shell.execute_reply": "2021-01-28T04:48:02.486982Z"
    },
    "papermill": {
     "duration": 1.58539,
     "end_time": "2021-01-28T04:48:02.487698",
     "exception": false,
     "start_time": "2021-01-28T04:48:00.902308",
     "status": "completed"
    },
    "tags": []
   },
   "outputs": [],
   "source": [
    "#limit memory use\n",
    "train = train.astype({c: np.float32 for c in train.select_dtypes(include='float64').columns})"
   ]
  },
  {
   "cell_type": "code",
   "execution_count": 8,
   "metadata": {
    "execution": {
     "iopub.execute_input": "2021-01-28T04:48:02.535339Z",
     "iopub.status.busy": "2021-01-28T04:48:02.534616Z",
     "iopub.status.idle": "2021-01-28T04:48:02.538315Z",
     "shell.execute_reply": "2021-01-28T04:48:02.537820Z"
    },
    "papermill": {
     "duration": 0.029786,
     "end_time": "2021-01-28T04:48:02.538411",
     "exception": false,
     "start_time": "2021-01-28T04:48:02.508625",
     "status": "completed"
    },
    "tags": []
   },
   "outputs": [],
   "source": [
    "pre_features = [c for c in train.columns if \"feature\" in c]"
   ]
  },
  {
   "cell_type": "code",
   "execution_count": 9,
   "metadata": {
    "execution": {
     "iopub.execute_input": "2021-01-28T04:48:02.802036Z",
     "iopub.status.busy": "2021-01-28T04:48:02.800903Z",
     "iopub.status.idle": "2021-01-28T04:48:03.615103Z",
     "shell.execute_reply": "2021-01-28T04:48:03.614578Z"
    },
    "papermill": {
     "duration": 1.054651,
     "end_time": "2021-01-28T04:48:03.615211",
     "exception": false,
     "start_time": "2021-01-28T04:48:02.560560",
     "status": "completed"
    },
    "tags": []
   },
   "outputs": [],
   "source": [
    "f_mean = np.mean(train[pre_features[1:]].values,axis=0)\n",
    "\n",
    "train.fillna(train.mean(),inplace=True)"
   ]
  },
  {
   "cell_type": "code",
   "execution_count": 10,
   "metadata": {
    "execution": {
     "iopub.execute_input": "2021-01-28T04:48:03.669065Z",
     "iopub.status.busy": "2021-01-28T04:48:03.668301Z",
     "iopub.status.idle": "2021-01-28T04:48:03.729687Z",
     "shell.execute_reply": "2021-01-28T04:48:03.730187Z"
    },
    "papermill": {
     "duration": 0.093369,
     "end_time": "2021-01-28T04:48:03.730339",
     "exception": false,
     "start_time": "2021-01-28T04:48:03.636970",
     "status": "completed"
    },
    "tags": []
   },
   "outputs": [],
   "source": [
    "# action = 0とするresp(=featureのリターン)を学習させるターゲットとする\n",
    "train['action'] = (train['resp']> 0.0).astype('int8')\n",
    "#train['action_1'] = (train['resp']> 0.05).astype('int8')\n",
    "#train['action_2'] = (train['resp']> 0.1).astype('int8')\n",
    "#train['action_3'] = (train['resp']> 0.2).astype('int8')\n",
    "\n",
    "# features\n",
    "#features = [c for c in train.columns if \"feature\" in c]\n",
    "#features = [c for c in train.columns if \"feature_tag\" in c]\n",
    "\n",
    "features = [f'feature_{c}' for c in range(130)]\n",
    "#target = ['action','action_1','action_2','action_3']\n",
    "target = ['action']\n",
    "\n",
    "train['weight_resp'] = abs(train['resp'])*train['weight']\n",
    "train['weight_bin'] = pd.cut(train['weight_resp'], [0, 0.0085, 500],labels=[0.9, 1.5]).astype(np.float32) #1 9551211 2 506620 3 345281 5 174265\n",
    "\n",
    "weight = ['weight_bin']"
   ]
  },
  {
   "cell_type": "code",
   "execution_count": 11,
   "metadata": {
    "execution": {
     "iopub.execute_input": "2021-01-28T04:48:03.779551Z",
     "iopub.status.busy": "2021-01-28T04:48:03.778583Z",
     "iopub.status.idle": "2021-01-28T04:48:03.805985Z",
     "shell.execute_reply": "2021-01-28T04:48:03.805289Z"
    },
    "papermill": {
     "duration": 0.053565,
     "end_time": "2021-01-28T04:48:03.806132",
     "exception": false,
     "start_time": "2021-01-28T04:48:03.752567",
     "status": "completed"
    },
    "tags": []
   },
   "outputs": [
    {
     "name": "stdout",
     "output_type": "stream",
     "text": [
      "0.9    992573\n",
      "1.5    988714\n",
      "Name: weight_bin, dtype: int64\n"
     ]
    }
   ],
   "source": [
    "print(train['weight_bin'].value_counts())"
   ]
  },
  {
   "cell_type": "code",
   "execution_count": 12,
   "metadata": {
    "execution": {
     "iopub.execute_input": "2021-01-28T04:48:03.855394Z",
     "iopub.status.busy": "2021-01-28T04:48:03.854551Z",
     "iopub.status.idle": "2021-01-28T04:48:03.877170Z",
     "shell.execute_reply": "2021-01-28T04:48:03.877651Z"
    },
    "papermill": {
     "duration": 0.049225,
     "end_time": "2021-01-28T04:48:03.877773",
     "exception": false,
     "start_time": "2021-01-28T04:48:03.828548",
     "status": "completed"
    },
    "tags": []
   },
   "outputs": [
    {
     "name": "stdout",
     "output_type": "stream",
     "text": [
      "1    999387\n",
      "0    981900\n",
      "Name: action, dtype: int64\n"
     ]
    }
   ],
   "source": [
    "print(train['action'].value_counts())\n",
    "#print(train['action_1'].value_counts())\n",
    "#print(train['action_2'].value_counts())\n",
    "#print(train['action_3'].value_counts())"
   ]
  },
  {
   "cell_type": "markdown",
   "metadata": {
    "papermill": {
     "duration": 0.021902,
     "end_time": "2021-01-28T04:48:03.921727",
     "exception": false,
     "start_time": "2021-01-28T04:48:03.899825",
     "status": "completed"
    },
    "tags": []
   },
   "source": [
    "## Metric"
   ]
  },
  {
   "cell_type": "code",
   "execution_count": 13,
   "metadata": {
    "execution": {
     "iopub.execute_input": "2021-01-28T04:48:03.975246Z",
     "iopub.status.busy": "2021-01-28T04:48:03.973836Z",
     "iopub.status.idle": "2021-01-28T04:48:03.976340Z",
     "shell.execute_reply": "2021-01-28T04:48:03.976832Z"
    },
    "papermill": {
     "duration": 0.033255,
     "end_time": "2021-01-28T04:48:03.976943",
     "exception": false,
     "start_time": "2021-01-28T04:48:03.943688",
     "status": "completed"
    },
    "tags": []
   },
   "outputs": [],
   "source": [
    "def utility_score_numba(date, weight, resp, action):\n",
    "    Pi = np.bincount(date, weight * resp * action)\n",
    "    t = np.sum(Pi) / np.sqrt(np.sum(Pi ** 2)) * np.sqrt(250 / len(Pi))\n",
    "    u = min(max(t, 0), 6) * np.sum(Pi)\n",
    "    return u\n",
    "\n",
    "def jane_utility(data, action_column=\"action\"):\n",
    "    return utility_score_numba(data[\"date\"].values, data[\"weight\"].values, data[\"resp\"].values, data[action_column].values)"
   ]
  },
  {
   "cell_type": "markdown",
   "metadata": {
    "papermill": {
     "duration": 0.021988,
     "end_time": "2021-01-28T04:48:04.021144",
     "exception": false,
     "start_time": "2021-01-28T04:48:03.999156",
     "status": "completed"
    },
    "tags": []
   },
   "source": [
    "## Model"
   ]
  },
  {
   "cell_type": "code",
   "execution_count": 14,
   "metadata": {
    "execution": {
     "iopub.execute_input": "2021-01-28T04:48:04.123282Z",
     "iopub.status.busy": "2021-01-28T04:48:04.116909Z",
     "iopub.status.idle": "2021-01-28T04:48:04.126902Z",
     "shell.execute_reply": "2021-01-28T04:48:04.126417Z"
    },
    "papermill": {
     "duration": 0.040473,
     "end_time": "2021-01-28T04:48:04.126996",
     "exception": false,
     "start_time": "2021-01-28T04:48:04.086523",
     "status": "completed"
    },
    "tags": []
   },
   "outputs": [],
   "source": [
    "def create_mlp(input_dim, output_dim, label_smoothing, learning_rate, tag):\n",
    "\n",
    "    input1 = Input(input_dim)\n",
    "    \n",
    "    x = BatchNormalization()(input1)\n",
    "    \n",
    "    xt = tf.matmul(x, tag)\n",
    "    x = Concatenate()([x,xt])\n",
    "    \n",
    "    x = tf.keras.layers.Dense(150)(x)\n",
    "    x = tf.keras.layers.Activation(tf.keras.activations.swish)(x)\n",
    "    x = tf.keras.layers.Dropout(0.2)(x)\n",
    "    \n",
    "    x = BatchNormalization()(x)\n",
    "    x = tf.keras.layers.Dense(150)(x)\n",
    "    x = tf.keras.layers.Activation(tf.keras.activations.swish)(x)\n",
    "    x = tf.keras.layers.Dropout(0.2)(x)\n",
    "    \n",
    "    x = BatchNormalization()(x)\n",
    "    x = tf.keras.layers.Dense(150)(x)\n",
    "    x = tf.keras.layers.Activation(tf.keras.activations.swish)(x)\n",
    "    x = tf.keras.layers.Dropout(0.2)(x)\n",
    "    \n",
    "    out = Dense(output_dim, activation='sigmoid')(x)\n",
    "   \n",
    "    model = Model(inputs=input1, outputs=out)\n",
    "    \n",
    "    model.compile(\n",
    "        optimizer = tf.keras.optimizers.Adam(learning_rate=learning_rate),\n",
    "        loss = tf.keras.losses.BinaryCrossentropy(label_smoothing=label_smoothing),\n",
    "        metrics = tf.keras.metrics.AUC(name=\"AUC\"),\n",
    "        sample_weight_mode=None,\n",
    "        weighted_metrics=['AUC'],\n",
    "    )\n",
    "\n",
    "    return model"
   ]
  },
  {
   "cell_type": "markdown",
   "metadata": {
    "papermill": {
     "duration": 0.023045,
     "end_time": "2021-01-28T04:48:04.172415",
     "exception": false,
     "start_time": "2021-01-28T04:48:04.149370",
     "status": "completed"
    },
    "tags": []
   },
   "source": [
    "# Traning,Validation"
   ]
  },
  {
   "cell_type": "code",
   "execution_count": 15,
   "metadata": {
    "execution": {
     "iopub.execute_input": "2021-01-28T04:48:04.234263Z",
     "iopub.status.busy": "2021-01-28T04:48:04.232921Z",
     "iopub.status.idle": "2021-01-28T04:48:06.921664Z",
     "shell.execute_reply": "2021-01-28T04:48:06.921134Z"
    },
    "papermill": {
     "duration": 2.726695,
     "end_time": "2021-01-28T04:48:06.921787",
     "exception": false,
     "start_time": "2021-01-28T04:48:04.195092",
     "status": "completed"
    },
    "tags": []
   },
   "outputs": [
    {
     "name": "stdout",
     "output_type": "stream",
     "text": [
      "X_train: (549967, 130)\n",
      "y_train: (549967, 1)\n",
      "X_train2: (1345102, 130)\n",
      "y_train2: (1345102, 1)\n",
      "X_valid: (236056, 130)\n",
      "y_valid: (236056, 1)\n"
     ]
    }
   ],
   "source": [
    "X_train = train.loc[(train['date'] >= 85) & (train['date'] < 250),features].values\n",
    "y_train = train.loc[(train['date'] >= 85) & (train['date'] < 250),target].values\n",
    "weight_train = train.loc[(train['date'] >= 85) & (train['date'] < 250),weight].values\n",
    "\n",
    "X_train2 = train.loc[(train['date'] >= 85) & (train['date'] < 450),features].values\n",
    "y_train2 = train.loc[(train['date'] >= 85) & (train['date'] < 450),target].values\n",
    "weight_train2 = train.loc[(train['date'] >= 85) & (train['date'] < 450),weight].values\n",
    "\n",
    "X_valid = train.loc[(train['date'] >= 450) & (train['date'] < 500),features].values\n",
    "y_valid = train.loc[(train['date'] >= 450) & (train['date'] < 500),target].values\n",
    "weight_valid = train.loc[(train['date'] >= 450) & (train['date'] < 500),weight].values\n",
    "        \n",
    "    \n",
    "print('X_train:',X_train.shape)\n",
    "print('y_train:',y_train.shape)\n",
    "print('X_train2:',X_train2.shape)\n",
    "print('y_train2:',y_train2.shape)\n",
    "print('X_valid:',X_valid.shape)\n",
    "print('y_valid:',y_valid.shape)"
   ]
  },
  {
   "cell_type": "code",
   "execution_count": 16,
   "metadata": {
    "execution": {
     "iopub.execute_input": "2021-01-28T04:48:06.991146Z",
     "iopub.status.busy": "2021-01-28T04:48:06.990470Z",
     "iopub.status.idle": "2021-01-28T04:50:25.359639Z",
     "shell.execute_reply": "2021-01-28T04:50:25.359067Z"
    },
    "papermill": {
     "duration": 138.414245,
     "end_time": "2021-01-28T04:50:25.359755",
     "exception": false,
     "start_time": "2021-01-28T04:48:06.945510",
     "status": "completed"
    },
    "tags": []
   },
   "outputs": [
    {
     "name": "stdout",
     "output_type": "stream",
     "text": [
      "Epoch 1/1000\n",
      "1075/1075 [==============================] - 9s 8ms/step - loss: 0.8304 - AUC: 0.5156 - auc: 0.5172 - val_loss: 0.6921 - val_AUC: 0.5283 - val_auc: 0.5283\n",
      "Epoch 2/1000\n",
      "1075/1075 [==============================] - 8s 8ms/step - loss: 0.8227 - AUC: 0.5301 - auc: 0.5329 - val_loss: 0.6917 - val_AUC: 0.5293 - val_auc: 0.5293\n",
      "Epoch 3/1000\n",
      "1075/1075 [==============================] - 8s 7ms/step - loss: 0.8214 - AUC: 0.5352 - auc: 0.5385 - val_loss: 0.6922 - val_AUC: 0.5250 - val_auc: 0.5250\n",
      "Epoch 4/1000\n",
      "1075/1075 [==============================] - 9s 8ms/step - loss: 0.8198 - AUC: 0.5413 - auc: 0.5450 - val_loss: 0.6925 - val_AUC: 0.5295 - val_auc: 0.5295\n",
      "Epoch 5/1000\n",
      "1075/1075 [==============================] - 8s 7ms/step - loss: 0.8180 - AUC: 0.5453 - auc: 0.5495 - val_loss: 0.6950 - val_AUC: 0.5239 - val_auc: 0.5239\n",
      "Epoch 6/1000\n",
      "1075/1075 [==============================] - 8s 7ms/step - loss: 0.8159 - AUC: 0.5500 - auc: 0.5547 - val_loss: 0.6957 - val_AUC: 0.5232 - val_auc: 0.5232\n",
      "Epoch 7/1000\n",
      "1071/1075 [============================>.] - ETA: 0s - loss: 0.8136 - AUC: 0.5549 - auc: 0.5604\n",
      "Epoch 00007: ReduceLROnPlateau reducing learning rate to 0.00010000000474974513.\n",
      "1075/1075 [==============================] - 8s 7ms/step - loss: 0.8135 - AUC: 0.5550 - auc: 0.5604 - val_loss: 0.6979 - val_AUC: 0.5243 - val_auc: 0.5243\n",
      "Epoch 8/1000\n",
      "1075/1075 [==============================] - 8s 8ms/step - loss: 0.8098 - AUC: 0.5642 - auc: 0.5702 - val_loss: 0.6985 - val_AUC: 0.5258 - val_auc: 0.5258\n",
      "Epoch 9/1000\n",
      "1075/1075 [==============================] - 8s 7ms/step - loss: 0.8086 - AUC: 0.5665 - auc: 0.5729 - val_loss: 0.6991 - val_AUC: 0.5266 - val_auc: 0.5266\n",
      "[0:02:17] ROC AUC:\t 0.5294770002365112\n",
      "Valid Jane Utility: 20083.56\n",
      "Pred  Jane Utility: 681.27\n",
      "auc:0.530\n",
      "accuracy:0.521\n",
      "precision:0.520\n",
      "recall:0.555\n"
     ]
    }
   ],
   "source": [
    "epochs = 1000\n",
    "batch_size = 512\n",
    "label_smoothing = 0.01\n",
    "learning_rate = 0.001\n",
    "verbose = 1\n",
    "\n",
    "opt_th = 0.500\n",
    "\n",
    "if TRAINING:\n",
    "    start_time_fold = time()\n",
    "    ckp_path = 'JSResNet.hdf5'\n",
    "        \n",
    "    model = create_mlp(len(features), len(target), label_smoothing, learning_rate, tag_feature)\n",
    "    \n",
    "    rlr = ReduceLROnPlateau(monitor = 'val_AUC', factor = 0.1, patience = 3, verbose = verbose, min_delta = 1e-4, mode = 'max')\n",
    "    ckp = ModelCheckpoint(ckp_path, monitor = 'val_AUC', verbose = 0, save_best_only = True, save_weights_only = True, mode = 'max')\n",
    "    es = EarlyStopping(monitor = 'val_AUC', min_delta = 1e-4, patience = 5, mode = 'max', baseline = None, restore_best_weights = True, verbose = 0)\n",
    "    \n",
    "    history = model.fit(X_train,\n",
    "                        y_train,\n",
    "                        sample_weight = weight_train,\n",
    "                        epochs = epochs,\n",
    "                        validation_data = (X_valid,y_valid),\n",
    "                        batch_size = batch_size,\n",
    "                        callbacks = [rlr, ckp, es],\n",
    "                        verbose = verbose)\n",
    "    \n",
    "    hist = pd.DataFrame(history.history)\n",
    "    print(f'[{str(datetime.timedelta(seconds = time() - start_time_fold))[0:7]}] ROC AUC:\\t', hist['val_AUC'].max())\n",
    "        \n",
    "    # validation\n",
    "    Valid = train[(train['date'] >= 450) & (train['date'] < 500)]\n",
    "\n",
    "    predictions = np.zeros(X_valid.shape[0])\n",
    "    predictions = model(X_valid, training = False).numpy()\n",
    "        \n",
    "    Valid.action = np.where(predictions >= opt_th, 1, 0).astype('int8')\n",
    "        \n",
    "    print(\"Valid Jane Utility: {:.2f}\".format(jane_utility(train[(train['date'] >= 450) & (train['date'] < 500)], action_column=\"action\")))\n",
    "    print(\"Pred  Jane Utility: {:.2f}\".format(jane_utility(Valid, action_column=\"action\")))\n",
    "    print('auc:{:.3f}'.format(roc_auc_score(train[(train['date'] >= 450) & (train['date'] < 500)].action.values, predictions)))\n",
    "    print('accuracy:{:.3f}'.format(accuracy_score(train[(train['date'] >= 450) & (train['date'] < 500)].action.values, Valid.action.values)))\n",
    "    print('precision:{:.3f}'.format(precision_score(train[(train['date'] >= 450) & (train['date'] < 500)].action.values, Valid.action.values)))\n",
    "    print('recall:{:.3f}'.format(recall_score(train[(train['date'] >= 450) & (train['date'] < 500)].action.values, Valid.action.values)))\n",
    "    \n",
    "    K.clear_session()\n",
    "    del X_train, y_train, Valid\n",
    "    gc.collect()"
   ]
  },
  {
   "cell_type": "code",
   "execution_count": 17,
   "metadata": {
    "execution": {
     "iopub.execute_input": "2021-01-28T04:50:26.192105Z",
     "iopub.status.busy": "2021-01-28T04:50:26.191236Z",
     "iopub.status.idle": "2021-01-28T04:55:47.999053Z",
     "shell.execute_reply": "2021-01-28T04:55:48.000199Z"
    },
    "papermill": {
     "duration": 322.232841,
     "end_time": "2021-01-28T04:55:48.000399",
     "exception": false,
     "start_time": "2021-01-28T04:50:25.767558",
     "status": "completed"
    },
    "tags": []
   },
   "outputs": [
    {
     "name": "stdout",
     "output_type": "stream",
     "text": [
      "Epoch 1/1000\n",
      "2628/2628 [==============================] - 18s 7ms/step - loss: 0.8253 - AUC: 0.5344 - auc: 0.5374 - val_loss: 0.6915 - val_AUC: 0.5325 - val_auc: 0.5325\n",
      "Epoch 2/1000\n",
      "2628/2628 [==============================] - 17s 6ms/step - loss: 0.8245 - AUC: 0.5377 - auc: 0.5411 - val_loss: 0.6915 - val_AUC: 0.5335 - val_auc: 0.5335\n",
      "Epoch 3/1000\n",
      "2628/2628 [==============================] - 17s 7ms/step - loss: 0.8240 - AUC: 0.5394 - auc: 0.5430 - val_loss: 0.6915 - val_AUC: 0.5333 - val_auc: 0.5333\n",
      "Epoch 4/1000\n",
      "2628/2628 [==============================] - 17s 6ms/step - loss: 0.8235 - AUC: 0.5412 - auc: 0.5449 - val_loss: 0.6914 - val_AUC: 0.5348 - val_auc: 0.5348\n",
      "Epoch 5/1000\n",
      "2628/2628 [==============================] - 17s 7ms/step - loss: 0.8231 - AUC: 0.5428 - auc: 0.5466 - val_loss: 0.6914 - val_AUC: 0.5359 - val_auc: 0.5359\n",
      "Epoch 6/1000\n",
      "2628/2628 [==============================] - 18s 7ms/step - loss: 0.8228 - AUC: 0.5436 - auc: 0.5475 - val_loss: 0.6917 - val_AUC: 0.5352 - val_auc: 0.5352\n",
      "Epoch 7/1000\n",
      "2628/2628 [==============================] - 17s 7ms/step - loss: 0.8222 - AUC: 0.5451 - auc: 0.5491 - val_loss: 0.6923 - val_AUC: 0.5355 - val_auc: 0.5355\n",
      "Epoch 8/1000\n",
      "2628/2628 [==============================] - 17s 7ms/step - loss: 0.8219 - AUC: 0.5460 - auc: 0.5502 - val_loss: 0.6920 - val_AUC: 0.5350 - val_auc: 0.5350\n",
      "Epoch 9/1000\n",
      "2628/2628 [==============================] - 17s 7ms/step - loss: 0.8214 - AUC: 0.5475 - auc: 0.5518 - val_loss: 0.6920 - val_AUC: 0.5356 - val_auc: 0.5356\n",
      "Epoch 10/1000\n",
      "2628/2628 [==============================] - 17s 7ms/step - loss: 0.8210 - AUC: 0.5486 - auc: 0.5531 - val_loss: 0.6925 - val_AUC: 0.5350 - val_auc: 0.5350\n",
      "[0:05:20] ROC AUC:\t 0.5358938574790955\n",
      "Valid Jane Utility: 20083.56\n",
      "Pred  Jane Utility: 800.82\n",
      "auc:0.536\n",
      "accuracy:0.524\n",
      "precision:0.523\n",
      "recall:0.550\n"
     ]
    }
   ],
   "source": [
    "if TRAINING:\n",
    "    start_time_fold = time()\n",
    "\n",
    "    model = create_mlp(len(features), len(target), label_smoothing, learning_rate/10, tag_feature)\n",
    "    \n",
    "    model.load_weights(ckp_path)\n",
    "    es = EarlyStopping(monitor = 'val_AUC', min_delta = 1e-4, patience = 5, mode = 'max', baseline = None, restore_best_weights = True, verbose = 0)\n",
    "\n",
    "    history2 = model.fit(X_train2,\n",
    "                         y_train2,\n",
    "                         sample_weight = weight_train2,\n",
    "                         validation_data = (X_valid, y_valid),\n",
    "                         batch_size = batch_size,epochs = 1000,\n",
    "                         callbacks = [es],\n",
    "                         verbose = verbose)\n",
    "\n",
    "    hist2 = pd.DataFrame(history2.history)\n",
    "    print(f'[{str(datetime.timedelta(seconds = time() - start_time_fold))[0:7]}] ROC AUC:\\t', hist2['val_AUC'].max())\n",
    "    finetune_epochs = hist2['val_AUC'].argmax() + 1\n",
    "    \n",
    "    # validation\n",
    "    Valid = train[(train['date'] >= 450) & (train['date'] < 500)]\n",
    "\n",
    "    predictions = np.zeros(X_valid.shape[0])\n",
    "    predictions = model(X_valid, training = False).numpy()\n",
    "        \n",
    "    Valid.action = np.where(predictions >= opt_th, 1, 0).astype('int8')\n",
    "        \n",
    "    print(\"Valid Jane Utility: {:.2f}\".format(jane_utility(train[(train['date'] >= 450) & (train['date'] < 500)], action_column=\"action\")))\n",
    "    print(\"Pred  Jane Utility: {:.2f}\".format(jane_utility(Valid, action_column=\"action\")))\n",
    "    print('auc:{:.3f}'.format(roc_auc_score(train[(train['date'] >= 450) & (train['date'] < 500)].action.values, predictions)))\n",
    "    print('accuracy:{:.3f}'.format(accuracy_score(train[(train['date'] >= 450) & (train['date'] < 500)].action.values, Valid.action.values)))\n",
    "    print('precision:{:.3f}'.format(precision_score(train[(train['date'] >= 450) & (train['date'] < 500)].action.values, Valid.action.values)))\n",
    "    print('recall:{:.3f}'.format(recall_score(train[(train['date'] >= 450) & (train['date'] < 500)].action.values, Valid.action.values)))\n",
    "\n",
    "    K.clear_session()\n",
    "    del model\n",
    "    rubbish = gc.collect()"
   ]
  },
  {
   "cell_type": "code",
   "execution_count": 18,
   "metadata": {
    "execution": {
     "iopub.execute_input": "2021-01-28T04:55:51.221058Z",
     "iopub.status.busy": "2021-01-28T04:55:51.220123Z",
     "iopub.status.idle": "2021-01-28T04:56:33.011733Z",
     "shell.execute_reply": "2021-01-28T04:56:33.011112Z"
    },
    "papermill": {
     "duration": 43.300095,
     "end_time": "2021-01-28T04:56:33.011855",
     "exception": false,
     "start_time": "2021-01-28T04:55:49.711760",
     "status": "completed"
    },
    "tags": []
   },
   "outputs": [
    {
     "name": "stdout",
     "output_type": "stream",
     "text": [
      "Epoch 1/5\n",
      "462/462 [==============================] - 3s 7ms/step - loss: 0.8275 - AUC: 0.5259 - auc: 0.5286\n",
      "Epoch 2/5\n",
      "462/462 [==============================] - 3s 7ms/step - loss: 0.8266 - AUC: 0.5296 - auc: 0.5323\n",
      "Epoch 3/5\n",
      "462/462 [==============================] - 3s 6ms/step - loss: 0.8256 - AUC: 0.5316 - auc: 0.5344\n",
      "Epoch 4/5\n",
      "462/462 [==============================] - 3s 6ms/step - loss: 0.8251 - AUC: 0.5338 - auc: 0.5370\n",
      "Epoch 5/5\n",
      "462/462 [==============================] - 3s 6ms/step - loss: 0.8248 - AUC: 0.5342 - auc: 0.5372\n"
     ]
    }
   ],
   "source": [
    "if TRAINING:\n",
    "    start_time_fold = time()\n",
    "    \n",
    "    model = create_mlp(len(features), len(target), label_smoothing, learning_rate / 100, tag_feature)\n",
    "    model.load_weights(ckp_path)\n",
    "    model.fit(X_valid,\n",
    "              y_valid,\n",
    "              sample_weight = weight_valid,\n",
    "              batch_size = batch_size,\n",
    "              epochs = finetune_epochs,\n",
    "              verbose = verbose)\n",
    "    \n",
    "    model.save_weights(ckp_path)\n",
    "\n",
    "    K.clear_session()\n",
    "    del model, X_train2, y_train2, X_valid, y_valid\n",
    "    rubbish = gc.collect()"
   ]
  },
  {
   "cell_type": "code",
   "execution_count": 19,
   "metadata": {
    "execution": {
     "iopub.execute_input": "2021-01-28T04:56:36.426955Z",
     "iopub.status.busy": "2021-01-28T04:56:36.425985Z",
     "iopub.status.idle": "2021-01-28T04:56:36.614762Z",
     "shell.execute_reply": "2021-01-28T04:56:36.613790Z"
    },
    "papermill": {
     "duration": 1.99181,
     "end_time": "2021-01-28T04:56:36.614892",
     "exception": false,
     "start_time": "2021-01-28T04:56:34.623082",
     "status": "completed"
    },
    "tags": []
   },
   "outputs": [],
   "source": [
    "model = create_mlp(len(features), len(target), label_smoothing, learning_rate, tag_feature)\n",
    "model.load_weights('./JSResNet.hdf5')"
   ]
  },
  {
   "cell_type": "markdown",
   "metadata": {
    "papermill": {
     "duration": 1.538955,
     "end_time": "2021-01-28T04:56:39.765827",
     "exception": false,
     "start_time": "2021-01-28T04:56:38.226872",
     "status": "completed"
    },
    "tags": []
   },
   "source": [
    "## Inference"
   ]
  },
  {
   "cell_type": "code",
   "execution_count": 20,
   "metadata": {
    "execution": {
     "iopub.execute_input": "2021-01-28T04:56:42.829583Z",
     "iopub.status.busy": "2021-01-28T04:56:42.828653Z",
     "iopub.status.idle": "2021-01-28T04:56:42.830518Z",
     "shell.execute_reply": "2021-01-28T04:56:42.831009Z"
    },
    "papermill": {
     "duration": 1.539352,
     "end_time": "2021-01-28T04:56:42.831159",
     "exception": false,
     "start_time": "2021-01-28T04:56:41.291807",
     "status": "completed"
    },
    "tags": []
   },
   "outputs": [],
   "source": [
    "Inf = True"
   ]
  },
  {
   "cell_type": "code",
   "execution_count": 21,
   "metadata": {
    "execution": {
     "iopub.execute_input": "2021-01-28T04:56:46.067724Z",
     "iopub.status.busy": "2021-01-28T04:56:46.066392Z",
     "iopub.status.idle": "2021-01-28T05:00:50.717498Z",
     "shell.execute_reply": "2021-01-28T05:00:50.716904Z"
    },
    "papermill": {
     "duration": 246.353939,
     "end_time": "2021-01-28T05:00:50.717654",
     "exception": false,
     "start_time": "2021-01-28T04:56:44.363715",
     "status": "completed"
    },
    "tags": []
   },
   "outputs": [
    {
     "name": "stderr",
     "output_type": "stream",
     "text": [
      "15219it [04:04, 62.21it/s]\n"
     ]
    }
   ],
   "source": [
    "# Inference\n",
    "if Inf:\n",
    "\n",
    "    env = janestreet.make_env()\n",
    "\n",
    "    for (test_df, pred_df) in tqdm(env.iter_test()):\n",
    "        \n",
    "        if test_df['weight'].item() > 0:\n",
    "            x_tt = test_df.loc[:, features].values\n",
    "        \n",
    "            if np.isnan(x_tt[:, 1:].sum()):\n",
    "                x_tt[:, 1:] = np.nan_to_num(x_tt[:, 1:]) + np.isnan(x_tt[:, 1:]) * f_mean\n",
    "        \n",
    "            pred = model(x_tt, training = False).numpy()\n",
    "            pred_df.action = np.where(pred >= opt_th, 1, 0).astype(int)\n",
    "        \n",
    "        env.predict(pred_df)\n",
    "else:\n",
    "    print('Traning Done')"
   ]
  },
  {
   "cell_type": "code",
   "execution_count": 22,
   "metadata": {
    "execution": {
     "iopub.execute_input": "2021-01-28T05:00:55.457220Z",
     "iopub.status.busy": "2021-01-28T05:00:55.456375Z",
     "iopub.status.idle": "2021-01-28T05:00:55.466948Z",
     "shell.execute_reply": "2021-01-28T05:00:55.467500Z"
    },
    "papermill": {
     "duration": 2.365288,
     "end_time": "2021-01-28T05:00:55.467638",
     "exception": false,
     "start_time": "2021-01-28T05:00:53.102350",
     "status": "completed"
    },
    "tags": []
   },
   "outputs": [
    {
     "name": "stdout",
     "output_type": "stream",
     "text": [
      "1    8185\n",
      "0    7034\n",
      "Name: action, dtype: int64\n"
     ]
    }
   ],
   "source": [
    "if Inf:\n",
    "    # display submission.csv\n",
    "    submission = pd.read_csv('./submission.csv')\n",
    "    print(submission.action.value_counts())"
   ]
  },
  {
   "cell_type": "code",
   "execution_count": 23,
   "metadata": {
    "execution": {
     "iopub.execute_input": "2021-01-28T05:01:00.459378Z",
     "iopub.status.busy": "2021-01-28T05:01:00.458766Z",
     "iopub.status.idle": "2021-01-28T05:01:00.662521Z",
     "shell.execute_reply": "2021-01-28T05:01:00.663211Z"
    },
    "papermill": {
     "duration": 2.8458,
     "end_time": "2021-01-28T05:01:00.663373",
     "exception": false,
     "start_time": "2021-01-28T05:00:57.817573",
     "status": "completed"
    },
    "tags": []
   },
   "outputs": [
    {
     "data": {
      "image/png": "[encoded data removed]",
      "text/plain": [
       "<Figure size 432x288 with 1 Axes>"
      ]
     },
     "metadata": {},
     "output_type": "display_data"
    }
   ],
   "source": [
    "if Inf:\n",
    "    sns.countplot(submission.action);"
   ]
  }
 ],
 "metadata": {
  "kernelspec": {
   "display_name": "Python 3",
   "language": "python",
   "name": "python3"
  },
  "language_info": {
   "codemirror_mode": {
    "name": "ipython",
    "version": 3
   },
   "file_extension": ".py",
   "mimetype": "text/x-python",
   "name": "python",
   "nbconvert_exporter": "python",
   "pygments_lexer": "ipython3",
   "version": "3.7.6"
  },
  "papermill": {
   "duration": 882.695748,
   "end_time": "2021-01-28T05:01:04.249754",
   "environment_variables": {},
   "exception": null,
   "input_path": "__notebook__.ipynb",
   "output_path": "__notebook__.ipynb",
   "parameters": {},
   "start_time": "2021-01-28T04:46:21.554006",
   "version": "2.1.0"
  }
 },
 "nbformat": 4,
 "nbformat_minor": 4
}
